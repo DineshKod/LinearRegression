{
 "cells": [
  {
   "cell_type": "code",
   "execution_count": 39,
   "id": "5b51d695-a396-46fe-a618-ca035612d603",
   "metadata": {},
   "outputs": [
    {
     "name": "stdout",
     "output_type": "stream",
     "text": [
      "trained_weights (w) : [21.078077   46.97589201 75.10722798 76.22214929]\n",
      "Training Loss: 0.002183938008619034\n",
      "Testing Loss: 0.0028721752802048743\n",
      "Test loss is lower than 1e-2\n"
     ]
    }
   ],
   "source": [
    "import math\n",
    "import numpy as np\n",
    "from linear_regression import *\n",
    "from sklearn.datasets import make_regression\n",
    "# Note: please don't add any new package, you should solve this problem using only the packages above.\n",
    "#-------------------------------------------------------------------------\n",
    "'''\n",
    "    Problem 2: Apply your Linear Regression\n",
    "    In this problem, use your linear regression method implemented in problem 1 to do the prediction.\n",
    "    Play with parameters alpha and number of epoch to make sure your test loss is smaller than 1e-2.\n",
    "    Report your parameter, your train_loss and test_loss \n",
    "    Note: please don't use any existing package for linear regression problem, use your own version.\n",
    "'''\n",
    "\n",
    "#--------------------------\n",
    "\n",
    "n_samples = 200\n",
    "X,y = make_regression(n_samples= n_samples, n_features=4, random_state=1)\n",
    "y = np.array(y).T\n",
    "X = np.array(X)\n",
    "Xtrain, Ytrain, Xtest, Ytest = X[::2], y[::2], X[1::2], y[1::2]\n",
    "\n",
    "#########################################\n",
    "## INSERT YOUR CODE HERE\n",
    "trained_weights = train(Xtrain, Ytrain, alpha=0.01, n_epoch=1000)\n",
    "print(f'trained_weights (w) : {trained_weights}')\n",
    "\n",
    "yhat_train = compute_yhat(Xtrain, trained_weights)\n",
    "train_loss = compute_L(yhat_train, Ytrain)\n",
    "print(f'Training Loss: {train_loss}')\n",
    "\n",
    "yhat_test = compute_yhat(Xtest, trained_weights)\n",
    "test_loss = compute_L(yhat_test, Ytest)\n",
    "print(f'Testing Loss: {test_loss}')\n",
    "if test_loss<(1e-2):\n",
    "    print('Test loss is lower than 1e-2')\n",
    "\n",
    "#########################################"
   ]
  },
  {
   "cell_type": "code",
   "execution_count": null,
   "id": "069ad3d3-b3cb-4fe0-a8f6-57f75ff8019f",
   "metadata": {},
   "outputs": [],
   "source": []
  }
 ],
 "metadata": {
  "kernelspec": {
   "display_name": "MLenv",
   "language": "python",
   "name": "mlenv"
  },
  "language_info": {
   "codemirror_mode": {
    "name": "ipython",
    "version": 3
   },
   "file_extension": ".py",
   "mimetype": "text/x-python",
   "name": "python",
   "nbconvert_exporter": "python",
   "pygments_lexer": "ipython3",
   "version": "3.9.0"
  }
 },
 "nbformat": 4,
 "nbformat_minor": 5
}
